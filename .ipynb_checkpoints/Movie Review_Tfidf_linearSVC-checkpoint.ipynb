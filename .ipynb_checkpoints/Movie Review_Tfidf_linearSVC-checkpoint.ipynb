{
 "cells": [
  {
   "cell_type": "code",
   "execution_count": 20,
   "id": "b1eb1f24-4ebf-49dd-9c21-d636a11e2483",
   "metadata": {},
   "outputs": [],
   "source": [
    "import pandas as pd\n",
    "from sklearn.model_selection import cross_val_score, train_test_split\n",
    "\n",
    "from sklearn.feature_extraction.text import TfidfVectorizer\n",
    "from sklearn.preprocessing import LabelEncoder\n",
    "from sklearn.svm import LinearSVC\n",
    "from sklearn.linear_model import LogisticRegression\n",
    "from sklearn.naive_bayes import MultinomialNB\n",
    "from sklearn.metrics import accuracy_score, classification_report\n",
    "import os\n"
   ]
  },
  {
   "cell_type": "code",
   "execution_count": 21,
   "id": "8464bec0-83ad-4145-87e4-4e8793dbc9e0",
   "metadata": {},
   "outputs": [
    {
     "name": "stdout",
     "output_type": "stream",
     "text": [
      "/Users/kiwoong/Desktop/UoA/Spring 2024/Ling539/ling-539-sp-2024-class-competition/data\n"
     ]
    }
   ],
   "source": [
    "print(os.getcwd())"
   ]
  },
  {
   "cell_type": "code",
   "execution_count": 22,
   "id": "a7b35b4c-6002-4a83-92d8-a4c106f5577a",
   "metadata": {},
   "outputs": [
    {
     "ename": "FileNotFoundError",
     "evalue": "[Errno 2] No such file or directory: '/Users/kiwoong/Desktop/UoA/Spring 2024/Ling539/ling-539-sp-2024-class-competition/data/data'",
     "output_type": "error",
     "traceback": [
      "\u001b[0;31m---------------------------------------------------------------------------\u001b[0m",
      "\u001b[0;31mFileNotFoundError\u001b[0m                         Traceback (most recent call last)",
      "Cell \u001b[0;32mIn[22], line 1\u001b[0m\n\u001b[0;32m----> 1\u001b[0m os\u001b[38;5;241m.\u001b[39mchdir(os\u001b[38;5;241m.\u001b[39mgetcwd()\u001b[38;5;241m+\u001b[39m\u001b[38;5;124m'\u001b[39m\u001b[38;5;124m/data\u001b[39m\u001b[38;5;124m'\u001b[39m)\n",
      "\u001b[0;31mFileNotFoundError\u001b[0m: [Errno 2] No such file or directory: '/Users/kiwoong/Desktop/UoA/Spring 2024/Ling539/ling-539-sp-2024-class-competition/data/data'"
     ]
    }
   ],
   "source": [
    "os.chdir(os.getcwd()+'/data')\n"
   ]
  },
  {
   "cell_type": "code",
   "execution_count": 23,
   "id": "4f2b74de-e484-4562-9fa3-24338b6aeb8f",
   "metadata": {},
   "outputs": [],
   "source": [
    "# Load datasets\n",
    "train_df = pd.read_csv('train.csv')\n",
    "\n",
    "# Preprocessing\n",
    "X = train_df['TEXT'].fillna(\"blank\").astype(str)\n",
    "y = train_df['LABEL']\n",
    "\n",
    "# Split data into train and validation sets\n",
    "X_train, X_val, y_train, y_val = train_test_split(X, y, test_size=0.2, random_state=42)"
   ]
  },
  {
   "cell_type": "code",
   "execution_count": 24,
   "id": "d5132c74-6580-436f-8b51-771dcd28a200",
   "metadata": {},
   "outputs": [],
   "source": [
    "# Initialize vectorizers\n",
    "tfidf_vect = TfidfVectorizer(ngram_range= (1,3), lowercase = True)\n",
    "\n",
    "# Fit and transform the train data\n",
    "X_train_tfidf = tfidf_vect.fit_transform(X_train)\n",
    "\n",
    "# Transform the test data\n",
    "X_test_tfidf = tfidf_vect.transform(X_val)\n",
    "\n",
    "\n",
    "# Initialize LabelEncoder\n",
    "label_encoder = LabelEncoder()\n",
    "\n",
    "# Fit LabelEncoder on the labels\n",
    "label_encoder.fit(y_train)\n",
    "\n",
    "# Transform labels to numeric values\n",
    "y_train_encoded = label_encoder.transform(y_train)\n",
    "y_test_encoded = label_encoder.transform(y_val)\n"
   ]
  },
  {
   "cell_type": "code",
   "execution_count": 25,
   "id": "7de0ef4a-fe8e-480a-a63c-a2682a9667fa",
   "metadata": {},
   "outputs": [],
   "source": [
    "from sklearn.naive_bayes import MultinomialNB\n",
    "\n",
    "class Classifiers:\n",
    "    def __init__(self):\n",
    "        self.logistic = LogisticRegression(max_iter = 500, C = 3)\n",
    "        self.bayes = MultinomialNB()\n",
    "        self.svm = LinearSVC(max_iter = 500, C = 3)\n",
    "\n",
    "    def fit(self, features, labels):\n",
    "        self.logistic.fit(features,labels)\n",
    "        self.bayes.fit(features,labels)\n",
    "        self.svm.fit(features,labels)\n",
    "\n",
    "\n",
    "    def predict(self, features):\n",
    "        return self.logistic.predict(features), self.bayes.predict(features), self.svm.predict(features)"
   ]
  },
  {
   "cell_type": "code",
   "execution_count": 26,
   "id": "dd2edf75-32df-4dab-ad75-f1fbcc5a7cf9",
   "metadata": {},
   "outputs": [],
   "source": [
    "clf = Classifiers()\n",
    "\n",
    "clf.fit(X_train_tfidf, y_train_encoded)\n",
    "logistics, bayes,svm = clf.predict(X_test_tfidf)"
   ]
  },
  {
   "cell_type": "code",
   "execution_count": 27,
   "id": "7a23d21e-2533-4357-90bf-6bcab7edc411",
   "metadata": {},
   "outputs": [],
   "source": [
    "def metric_printout(modelname:str, labels, preds):\n",
    "\n",
    "    print(modelname,\": ==========================\")\n",
    "\n",
    "    print(classification_report(labels,preds,target_names=['Not Movie','Positive','Negative']))"
   ]
  },
  {
   "cell_type": "code",
   "execution_count": 28,
   "id": "92f02fe0-e26e-42ce-8a22-127a70e7a2df",
   "metadata": {},
   "outputs": [
    {
     "name": "stdout",
     "output_type": "stream",
     "text": [
      "Linear Regression : ==========================\n",
      "              precision    recall  f1-score   support\n",
      "\n",
      "   Not Movie       0.97      0.97      0.97      6454\n",
      "    Positive       0.87      0.90      0.88      3856\n",
      "    Negative       0.91      0.88      0.89      3754\n",
      "\n",
      "    accuracy                           0.93     14064\n",
      "   macro avg       0.92      0.91      0.91     14064\n",
      "weighted avg       0.93      0.93      0.93     14064\n",
      "\n",
      "Multinomal NB : ==========================\n",
      "              precision    recall  f1-score   support\n",
      "\n",
      "   Not Movie       0.97      0.94      0.96      6454\n",
      "    Positive       0.86      0.85      0.85      3856\n",
      "    Negative       0.85      0.91      0.88      3754\n",
      "\n",
      "    accuracy                           0.91     14064\n",
      "   macro avg       0.89      0.90      0.90     14064\n",
      "weighted avg       0.91      0.91      0.91     14064\n",
      "\n",
      "Linear Support Vector Machine : ==========================\n",
      "              precision    recall  f1-score   support\n",
      "\n",
      "   Not Movie       0.98      0.98      0.98      6454\n",
      "    Positive       0.88      0.90      0.89      3856\n",
      "    Negative       0.92      0.89      0.90      3754\n",
      "\n",
      "    accuracy                           0.93     14064\n",
      "   macro avg       0.92      0.92      0.92     14064\n",
      "weighted avg       0.93      0.93      0.93     14064\n",
      "\n"
     ]
    }
   ],
   "source": [
    "metric_printout(\"Linear Regression\",y_val,logistics)\n",
    "metric_printout(\"Multinomal NB\", y_val,bayes)\n",
    "metric_printout(\"Linear Support Vector Machine\", y_val,svm)"
   ]
  },
  {
   "cell_type": "code",
   "execution_count": 30,
   "id": "f0e0ef52-3d8a-489b-9cf5-57be6e59b237",
   "metadata": {},
   "outputs": [],
   "source": [
    "test_df = pd.read_csv(os.getcwd() + '/test.csv')\n",
    "test_df = test_df.fillna('blank')\n",
    "test_tfidf = tfidf_vect.transform(test_df['TEXT'])\n",
    "\n",
    "_,_,predictions = clf.predict(test_tfidf)"
   ]
  },
  {
   "cell_type": "code",
   "execution_count": 31,
   "id": "12e34b90-2bac-42b2-a077-d75e9b9d15fb",
   "metadata": {},
   "outputs": [
    {
     "data": {
      "text/html": [
       "<div>\n",
       "<style scoped>\n",
       "    .dataframe tbody tr th:only-of-type {\n",
       "        vertical-align: middle;\n",
       "    }\n",
       "\n",
       "    .dataframe tbody tr th {\n",
       "        vertical-align: top;\n",
       "    }\n",
       "\n",
       "    .dataframe thead th {\n",
       "        text-align: right;\n",
       "    }\n",
       "</style>\n",
       "<table border=\"1\" class=\"dataframe\">\n",
       "  <thead>\n",
       "    <tr style=\"text-align: right;\">\n",
       "      <th></th>\n",
       "      <th>ID</th>\n",
       "      <th>LABEL</th>\n",
       "    </tr>\n",
       "  </thead>\n",
       "  <tbody>\n",
       "    <tr>\n",
       "      <th>0</th>\n",
       "      <td>4728459160322025755</td>\n",
       "      <td>1</td>\n",
       "    </tr>\n",
       "    <tr>\n",
       "      <th>1</th>\n",
       "      <td>1840432070229003467</td>\n",
       "      <td>1</td>\n",
       "    </tr>\n",
       "    <tr>\n",
       "      <th>2</th>\n",
       "      <td>12623336783082722606</td>\n",
       "      <td>2</td>\n",
       "    </tr>\n",
       "    <tr>\n",
       "      <th>3</th>\n",
       "      <td>7446733850828603409</td>\n",
       "      <td>0</td>\n",
       "    </tr>\n",
       "    <tr>\n",
       "      <th>4</th>\n",
       "      <td>16180660281866613068</td>\n",
       "      <td>2</td>\n",
       "    </tr>\n",
       "    <tr>\n",
       "      <th>...</th>\n",
       "      <td>...</td>\n",
       "      <td>...</td>\n",
       "    </tr>\n",
       "    <tr>\n",
       "      <th>17575</th>\n",
       "      <td>15460118162570972562</td>\n",
       "      <td>2</td>\n",
       "    </tr>\n",
       "    <tr>\n",
       "      <th>17576</th>\n",
       "      <td>2679547768967862209</td>\n",
       "      <td>0</td>\n",
       "    </tr>\n",
       "    <tr>\n",
       "      <th>17577</th>\n",
       "      <td>2966026531113989116</td>\n",
       "      <td>0</td>\n",
       "    </tr>\n",
       "    <tr>\n",
       "      <th>17578</th>\n",
       "      <td>10698695044532313190</td>\n",
       "      <td>0</td>\n",
       "    </tr>\n",
       "    <tr>\n",
       "      <th>17579</th>\n",
       "      <td>8504104014180128164</td>\n",
       "      <td>1</td>\n",
       "    </tr>\n",
       "  </tbody>\n",
       "</table>\n",
       "<p>17580 rows × 2 columns</p>\n",
       "</div>"
      ],
      "text/plain": [
       "                         ID  LABEL\n",
       "0       4728459160322025755      1\n",
       "1       1840432070229003467      1\n",
       "2      12623336783082722606      2\n",
       "3       7446733850828603409      0\n",
       "4      16180660281866613068      2\n",
       "...                     ...    ...\n",
       "17575  15460118162570972562      2\n",
       "17576   2679547768967862209      0\n",
       "17577   2966026531113989116      0\n",
       "17578  10698695044532313190      0\n",
       "17579   8504104014180128164      1\n",
       "\n",
       "[17580 rows x 2 columns]"
      ]
     },
     "execution_count": 31,
     "metadata": {},
     "output_type": "execute_result"
    }
   ],
   "source": [
    "submission = pd.DataFrame(columns=['ID','LABEL'])\n",
    "submission['ID'] = test_df['ID']\n",
    "submission['LABEL'] = predictions\n",
    "\n",
    "submission"
   ]
  },
  {
   "cell_type": "code",
   "execution_count": 32,
   "id": "c541b3d1-1aa7-4970-986d-5a5d9fe43f0c",
   "metadata": {},
   "outputs": [],
   "source": [
    "submission.to_csv('submission_v6.csv', index = False)"
   ]
  },
  {
   "cell_type": "code",
   "execution_count": null,
   "id": "2c6f94af-f98f-46f7-a081-b43b19276f39",
   "metadata": {},
   "outputs": [],
   "source": []
  }
 ],
 "metadata": {
  "kernelspec": {
   "display_name": "Python 3 (ipykernel)",
   "language": "python",
   "name": "python3"
  },
  "language_info": {
   "codemirror_mode": {
    "name": "ipython",
    "version": 3
   },
   "file_extension": ".py",
   "mimetype": "text/x-python",
   "name": "python",
   "nbconvert_exporter": "python",
   "pygments_lexer": "ipython3",
   "version": "3.11.5"
  }
 },
 "nbformat": 4,
 "nbformat_minor": 5
}
